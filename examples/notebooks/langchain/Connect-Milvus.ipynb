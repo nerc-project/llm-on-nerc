{
 "cells": [
  {
   "cell_type": "markdown",
   "id": "409c19dd-fe80-49e2-b4c6-2f18d066c93a",
   "metadata": {},
   "source": [
    "## Testing a Milvus Connection\n",
    "\n",
    "Simple example on how to test Milvus Vector Store connection.\n",
    "\n",
    "### Requirements\n",
    "\n",
    "- A **Milvus** vector database, set up according to [these instructions](../../../vector-databases/milvus/README.md).\n",
    "\n",
    "- Connection credentials to Milvus must be available as environment variables:\n",
    "\n",
    "  - `MILVUS_USERNAME`\n",
    "\n",
    "  - `MILVUS_PASSWORD`\n",
    "\n",
    "- Update the **MILVUS_HOST**, **MILVUS_PORT**, and **MILVUS_COLLECTION** in this notebook to match your deployment settings."
   ]
  },
  {
   "cell_type": "code",
   "execution_count": 1,
   "id": "d69b72a8-4674-4307-8264-302271916772",
   "metadata": {
    "tags": []
   },
   "outputs": [
    {
     "name": "stdout",
     "output_type": "stream",
     "text": [
      "Requirement already satisfied: pip in /opt/app-root/lib/python3.9/site-packages (25.0.1)\n",
      "Requirement already satisfied: pymilvus in /opt/app-root/lib/python3.9/site-packages (2.3.6)\n",
      "Requirement already satisfied: setuptools>=67 in /opt/app-root/lib/python3.9/site-packages (from pymilvus) (68.1.2)\n",
      "Requirement already satisfied: grpcio<=1.60.0,>=1.49.1 in /opt/app-root/lib/python3.9/site-packages (from pymilvus) (1.60.0)\n",
      "Requirement already satisfied: protobuf>=3.20.0 in /opt/app-root/lib/python3.9/site-packages (from pymilvus) (3.20.3)\n",
      "Requirement already satisfied: environs<=9.5.0 in /opt/app-root/lib/python3.9/site-packages (from pymilvus) (9.5.0)\n",
      "Requirement already satisfied: ujson>=2.0.0 in /opt/app-root/lib/python3.9/site-packages (from pymilvus) (5.9.0)\n",
      "Requirement already satisfied: pandas>=1.2.4 in /opt/app-root/lib/python3.9/site-packages (from pymilvus) (1.5.3)\n",
      "Requirement already satisfied: requests in /opt/app-root/lib/python3.9/site-packages (from pymilvus) (2.31.0)\n",
      "Requirement already satisfied: minio>=7.0.0 in /opt/app-root/lib/python3.9/site-packages (from pymilvus) (7.2.4)\n",
      "Requirement already satisfied: pyarrow>=12.0.0 in /opt/app-root/lib/python3.9/site-packages (from pymilvus) (15.0.0)\n",
      "Requirement already satisfied: marshmallow>=3.0.0 in /opt/app-root/lib/python3.9/site-packages (from environs<=9.5.0->pymilvus) (3.26.1)\n",
      "Requirement already satisfied: python-dotenv in /opt/app-root/lib/python3.9/site-packages (from environs<=9.5.0->pymilvus) (1.0.1)\n",
      "Requirement already satisfied: certifi in /opt/app-root/lib/python3.9/site-packages (from minio>=7.0.0->pymilvus) (2024.2.2)\n",
      "Requirement already satisfied: urllib3 in /opt/app-root/lib/python3.9/site-packages (from minio>=7.0.0->pymilvus) (1.26.18)\n",
      "Requirement already satisfied: argon2-cffi in /opt/app-root/lib/python3.9/site-packages (from minio>=7.0.0->pymilvus) (23.1.0)\n",
      "Requirement already satisfied: pycryptodome in /opt/app-root/lib/python3.9/site-packages (from minio>=7.0.0->pymilvus) (3.20.0)\n",
      "Requirement already satisfied: typing-extensions in /opt/app-root/lib/python3.9/site-packages (from minio>=7.0.0->pymilvus) (4.12.2)\n",
      "Requirement already satisfied: python-dateutil>=2.8.1 in /opt/app-root/lib/python3.9/site-packages (from pandas>=1.2.4->pymilvus) (2.9.0)\n",
      "Requirement already satisfied: pytz>=2020.1 in /opt/app-root/lib/python3.9/site-packages (from pandas>=1.2.4->pymilvus) (2024.1)\n",
      "Requirement already satisfied: numpy>=1.20.3 in /opt/app-root/lib/python3.9/site-packages (from pandas>=1.2.4->pymilvus) (1.24.3)\n",
      "Requirement already satisfied: charset-normalizer<4,>=2 in /opt/app-root/lib/python3.9/site-packages (from requests->pymilvus) (3.3.2)\n",
      "Requirement already satisfied: idna<4,>=2.5 in /opt/app-root/lib/python3.9/site-packages (from requests->pymilvus) (3.6)\n",
      "Requirement already satisfied: packaging>=17.0 in /opt/app-root/lib/python3.9/site-packages (from marshmallow>=3.0.0->environs<=9.5.0->pymilvus) (23.2)\n",
      "Requirement already satisfied: six>=1.5 in /opt/app-root/lib/python3.9/site-packages (from python-dateutil>=2.8.1->pandas>=1.2.4->pymilvus) (1.16.0)\n",
      "Requirement already satisfied: argon2-cffi-bindings in /opt/app-root/lib/python3.9/site-packages (from argon2-cffi->minio>=7.0.0->pymilvus) (21.2.0)\n",
      "Requirement already satisfied: cffi>=1.0.1 in /opt/app-root/lib/python3.9/site-packages (from argon2-cffi-bindings->argon2-cffi->minio>=7.0.0->pymilvus) (1.16.0)\n",
      "Requirement already satisfied: pycparser in /opt/app-root/lib/python3.9/site-packages (from cffi>=1.0.1->argon2-cffi-bindings->argon2-cffi->minio>=7.0.0->pymilvus) (2.21)\n"
     ]
    }
   ],
   "source": [
    "!pip install --upgrade pip\n",
    "!pip install pymilvus"
   ]
  },
  {
   "cell_type": "markdown",
   "id": "065fbb23-bb2a-495c-ac28-f098d6185db5",
   "metadata": {},
   "source": [
    "### Needed packages and imports"
   ]
  },
  {
   "cell_type": "code",
   "execution_count": 2,
   "id": "c04cf276-1c76-4739-999c-f3f3196040de",
   "metadata": {},
   "outputs": [],
   "source": [
    "import os\n",
    "\n",
    "from pymilvus import connections, utility"
   ]
  },
  {
   "cell_type": "markdown",
   "id": "f8e0138d-19fd-40ee-83af-5c4b4b54aa51",
   "metadata": {},
   "source": [
    "### Base parameters, the Milvus connection info"
   ]
  },
  {
   "cell_type": "code",
   "execution_count": 3,
   "id": "2ba9a22c-5d6b-45f0-a9d9-f9b19c941907",
   "metadata": {},
   "outputs": [],
   "source": [
    "# Replace values according to your Milvus deployment\n",
    "MILVUS_HOST = \"milvus-service\"\n",
    "# MILVUS_HOST = \"milvus-service.<your-namespace>.svc.cluster.local\"\n",
    "MILVUS_PORT = 19530\n",
    "MILVUS_USERNAME = os.getenv('MILVUS_USERNAME')\n",
    "MILVUS_PASSWORD = os.getenv('MILVUS_PASSWORD')\n",
    "MILVUS_COLLECTION = \"hello_milvus\""
   ]
  },
  {
   "cell_type": "code",
   "execution_count": 4,
   "id": "be76732d-94fc-4d4b-8344-621d416d44c1",
   "metadata": {},
   "outputs": [],
   "source": [
    "### Initialize and Test the connection"
   ]
  },
  {
   "cell_type": "code",
   "execution_count": 5,
   "id": "da5be209-5af8-4884-81c8-776b7d485208",
   "metadata": {
    "tags": []
   },
   "outputs": [
    {
     "name": "stdout",
     "output_type": "stream",
     "text": [
      "start connecting to Milvus!\n",
      "Does collection hello_milvus exist in Milvus: True\n"
     ]
    }
   ],
   "source": [
    "print(\"start connecting to Milvus!\")\n",
    "\n",
    "# Disconnect existing connection (if any)\n",
    "connections.disconnect(alias=\"default\")\n",
    "\n",
    "# Connect with authentication\n",
    "connections.connect(\n",
    "    alias=\"default\",\n",
    "    host=MILVUS_HOST,\n",
    "    port=MILVUS_PORT,\n",
    "    user=MILVUS_USERNAME,\n",
    "    password=MILVUS_PASSWORD\n",
    ")\n",
    "                    \n",
    "has = utility.has_collection(MILVUS_COLLECTION)\n",
    "print(f\"Does collection hello_milvus exist in Milvus: {has}\")"
   ]
  }
 ],
 "metadata": {
  "kernelspec": {
   "display_name": "Python 3.9",
   "language": "python",
   "name": "python3"
  },
  "language_info": {
   "codemirror_mode": {
    "name": "ipython",
    "version": 3
   },
   "file_extension": ".py",
   "mimetype": "text/x-python",
   "name": "python",
   "nbconvert_exporter": "python",
   "pygments_lexer": "ipython3",
   "version": "3.9.18"
  }
 },
 "nbformat": 4,
 "nbformat_minor": 5
}
