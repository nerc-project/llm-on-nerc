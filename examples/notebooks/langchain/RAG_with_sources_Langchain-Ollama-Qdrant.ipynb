{
 "cells": [
  {
   "cell_type": "markdown",
   "id": "2a331fd6",
   "metadata": {},
   "source": [
    "## RAG example with Langchain, Qdrant, and Ollama\n",
    "\n",
    "### Requirements\n",
    "\n",
    "- A **Ollama** LLM Server instance running on your NERC OpenShift environment, deployed by following [these instructions](../../../llm-servers/ollama/README.md). Ensure that the **GPU** section is uncommented to enable a GPU-based pod for hosting your standalone Ollama server instance.\n",
    "\n",
    "- A **Qdrant** vector database, set up according to [these instructions](../../../vector-databases/qdrant/README.md).\n",
    "\n",
    "- Environment variables must be configured for connecting to Qdrant:\n",
    "\n",
    "  - `QDRANT_COLLECTION`\n",
    "\n",
    "  - `QDRANT_API_KEY`\n",
    "\n",
    "- Update the Ollama **BASE_URL** and **QDRANT_HOST** in this notebook to match your deployment settings."
   ]
  },
  {
   "cell_type": "markdown",
   "id": "75114f90",
   "metadata": {},
   "source": [
    "## The Architecture of RAG Approach\n",
    "\n",
    "![The Architecture of RAG Approach](datasource/RAG-architecture.png)"
   ]
  },
  {
   "cell_type": "markdown",
   "id": "e712b3e8-f406-4387-9188-3e2f20a6841f",
   "metadata": {},
   "source": [
    "### Needed packages and imports"
   ]
  },
  {
   "cell_type": "code",
   "execution_count": 1,
   "id": "550d1f86-6a1f-4f0b-bdc3-57cf4a1e8b40",
   "metadata": {},
   "outputs": [
    {
     "name": "stdout",
     "output_type": "stream",
     "text": [
      "Requirement already satisfied: pip in /opt/app-root/lib/python3.9/site-packages (25.0.1)\n",
      "Requirement already satisfied: langchain_openai in /opt/app-root/lib/python3.9/site-packages (0.3.8)\n",
      "Requirement already satisfied: qdrant_client in /opt/app-root/lib/python3.9/site-packages (1.13.3)\n",
      "Requirement already satisfied: langchain_qdrant in /opt/app-root/lib/python3.9/site-packages (0.2.0)\n",
      "Requirement already satisfied: langchain_community in /opt/app-root/lib/python3.9/site-packages (0.3.19)\n",
      "Requirement already satisfied: langchain-core<1.0.0,>=0.3.42 in /opt/app-root/lib/python3.9/site-packages (from langchain_openai) (0.3.45)\n",
      "Requirement already satisfied: openai<2.0.0,>=1.58.1 in /opt/app-root/lib/python3.9/site-packages (from langchain_openai) (1.66.3)\n",
      "Requirement already satisfied: tiktoken<1,>=0.7 in /opt/app-root/lib/python3.9/site-packages (from langchain_openai) (0.9.0)\n",
      "Requirement already satisfied: grpcio>=1.41.0 in /opt/app-root/lib/python3.9/site-packages (from qdrant_client) (1.71.0)\n",
      "Requirement already satisfied: grpcio-tools>=1.41.0 in /opt/app-root/lib/python3.9/site-packages (from qdrant_client) (1.71.0)\n",
      "Requirement already satisfied: httpx>=0.20.0 in /opt/app-root/lib/python3.9/site-packages (from httpx[http2]>=0.20.0->qdrant_client) (0.28.1)\n",
      "Requirement already satisfied: numpy<2.1.0,>=1.21 in /opt/app-root/lib/python3.9/site-packages (from qdrant_client) (2.0.2)\n",
      "Requirement already satisfied: portalocker<3.0.0,>=2.7.0 in /opt/app-root/lib/python3.9/site-packages (from qdrant_client) (2.10.1)\n",
      "Requirement already satisfied: pydantic>=1.10.8 in /opt/app-root/lib/python3.9/site-packages (from qdrant_client) (2.10.6)\n",
      "Requirement already satisfied: urllib3<3,>=1.26.14 in /opt/app-root/lib/python3.9/site-packages (from qdrant_client) (1.26.18)\n",
      "Requirement already satisfied: langchain<1.0.0,>=0.3.20 in /opt/app-root/lib/python3.9/site-packages (from langchain_community) (0.3.20)\n",
      "Requirement already satisfied: SQLAlchemy<3,>=1.4 in /opt/app-root/lib/python3.9/site-packages (from langchain_community) (2.0.39)\n",
      "Requirement already satisfied: requests<3,>=2 in /opt/app-root/lib/python3.9/site-packages (from langchain_community) (2.31.0)\n",
      "Requirement already satisfied: PyYAML>=5.3 in /opt/app-root/lib/python3.9/site-packages (from langchain_community) (6.0.1)\n",
      "Requirement already satisfied: aiohttp<4.0.0,>=3.8.3 in /opt/app-root/lib/python3.9/site-packages (from langchain_community) (3.9.3)\n",
      "Requirement already satisfied: tenacity!=8.4.0,<10,>=8.1.0 in /opt/app-root/lib/python3.9/site-packages (from langchain_community) (8.2.3)\n",
      "Requirement already satisfied: dataclasses-json<0.7,>=0.5.7 in /opt/app-root/lib/python3.9/site-packages (from langchain_community) (0.6.7)\n",
      "Requirement already satisfied: pydantic-settings<3.0.0,>=2.4.0 in /opt/app-root/lib/python3.9/site-packages (from langchain_community) (2.8.1)\n",
      "Requirement already satisfied: langsmith<0.4,>=0.1.125 in /opt/app-root/lib/python3.9/site-packages (from langchain_community) (0.3.15)\n",
      "Requirement already satisfied: httpx-sse<1.0.0,>=0.4.0 in /opt/app-root/lib/python3.9/site-packages (from langchain_community) (0.4.0)\n",
      "Requirement already satisfied: aiosignal>=1.1.2 in /opt/app-root/lib/python3.9/site-packages (from aiohttp<4.0.0,>=3.8.3->langchain_community) (1.3.1)\n",
      "Requirement already satisfied: attrs>=17.3.0 in /opt/app-root/lib/python3.9/site-packages (from aiohttp<4.0.0,>=3.8.3->langchain_community) (23.2.0)\n",
      "Requirement already satisfied: frozenlist>=1.1.1 in /opt/app-root/lib/python3.9/site-packages (from aiohttp<4.0.0,>=3.8.3->langchain_community) (1.4.1)\n",
      "Requirement already satisfied: multidict<7.0,>=4.5 in /opt/app-root/lib/python3.9/site-packages (from aiohttp<4.0.0,>=3.8.3->langchain_community) (6.0.5)\n",
      "Requirement already satisfied: yarl<2.0,>=1.0 in /opt/app-root/lib/python3.9/site-packages (from aiohttp<4.0.0,>=3.8.3->langchain_community) (1.9.4)\n",
      "Requirement already satisfied: async-timeout<5.0,>=4.0 in /opt/app-root/lib/python3.9/site-packages (from aiohttp<4.0.0,>=3.8.3->langchain_community) (4.0.3)\n",
      "Requirement already satisfied: marshmallow<4.0.0,>=3.18.0 in /opt/app-root/lib/python3.9/site-packages (from dataclasses-json<0.7,>=0.5.7->langchain_community) (3.26.1)\n",
      "Requirement already satisfied: typing-inspect<1,>=0.4.0 in /opt/app-root/lib/python3.9/site-packages (from dataclasses-json<0.7,>=0.5.7->langchain_community) (0.9.0)\n",
      "Requirement already satisfied: protobuf<6.0dev,>=5.26.1 in /opt/app-root/lib/python3.9/site-packages (from grpcio-tools>=1.41.0->qdrant_client) (5.29.3)\n",
      "Requirement already satisfied: setuptools in /opt/app-root/lib/python3.9/site-packages (from grpcio-tools>=1.41.0->qdrant_client) (68.1.2)\n",
      "Requirement already satisfied: anyio in /opt/app-root/lib/python3.9/site-packages (from httpx>=0.20.0->httpx[http2]>=0.20.0->qdrant_client) (4.3.0)\n",
      "Requirement already satisfied: certifi in /opt/app-root/lib/python3.9/site-packages (from httpx>=0.20.0->httpx[http2]>=0.20.0->qdrant_client) (2024.2.2)\n",
      "Requirement already satisfied: httpcore==1.* in /opt/app-root/lib/python3.9/site-packages (from httpx>=0.20.0->httpx[http2]>=0.20.0->qdrant_client) (1.0.7)\n",
      "Requirement already satisfied: idna in /opt/app-root/lib/python3.9/site-packages (from httpx>=0.20.0->httpx[http2]>=0.20.0->qdrant_client) (3.6)\n",
      "Requirement already satisfied: h11<0.15,>=0.13 in /opt/app-root/lib/python3.9/site-packages (from httpcore==1.*->httpx>=0.20.0->httpx[http2]>=0.20.0->qdrant_client) (0.14.0)\n",
      "Requirement already satisfied: h2<5,>=3 in /opt/app-root/lib/python3.9/site-packages (from httpx[http2]>=0.20.0->qdrant_client) (4.2.0)\n",
      "Requirement already satisfied: langchain-text-splitters<1.0.0,>=0.3.6 in /opt/app-root/lib/python3.9/site-packages (from langchain<1.0.0,>=0.3.20->langchain_community) (0.3.6)\n",
      "Requirement already satisfied: jsonpatch<2.0,>=1.33 in /opt/app-root/lib/python3.9/site-packages (from langchain-core<1.0.0,>=0.3.42->langchain_openai) (1.33)\n",
      "Requirement already satisfied: packaging<25,>=23.2 in /opt/app-root/lib/python3.9/site-packages (from langchain-core<1.0.0,>=0.3.42->langchain_openai) (23.2)\n",
      "Requirement already satisfied: typing-extensions>=4.7 in /opt/app-root/lib/python3.9/site-packages (from langchain-core<1.0.0,>=0.3.42->langchain_openai) (4.12.2)\n",
      "Requirement already satisfied: orjson<4.0.0,>=3.9.14 in /opt/app-root/lib/python3.9/site-packages (from langsmith<0.4,>=0.1.125->langchain_community) (3.10.15)\n",
      "Requirement already satisfied: requests-toolbelt<2.0.0,>=1.0.0 in /opt/app-root/lib/python3.9/site-packages (from langsmith<0.4,>=0.1.125->langchain_community) (1.0.0)\n",
      "Requirement already satisfied: zstandard<0.24.0,>=0.23.0 in /opt/app-root/lib/python3.9/site-packages (from langsmith<0.4,>=0.1.125->langchain_community) (0.23.0)\n",
      "Requirement already satisfied: distro<2,>=1.7.0 in /opt/app-root/lib/python3.9/site-packages (from openai<2.0.0,>=1.58.1->langchain_openai) (1.9.0)\n",
      "Requirement already satisfied: jiter<1,>=0.4.0 in /opt/app-root/lib/python3.9/site-packages (from openai<2.0.0,>=1.58.1->langchain_openai) (0.9.0)\n",
      "Requirement already satisfied: sniffio in /opt/app-root/lib/python3.9/site-packages (from openai<2.0.0,>=1.58.1->langchain_openai) (1.3.1)\n",
      "Requirement already satisfied: tqdm>4 in /opt/app-root/lib/python3.9/site-packages (from openai<2.0.0,>=1.58.1->langchain_openai) (4.66.2)\n",
      "Requirement already satisfied: annotated-types>=0.6.0 in /opt/app-root/lib/python3.9/site-packages (from pydantic>=1.10.8->qdrant_client) (0.7.0)\n",
      "Requirement already satisfied: pydantic-core==2.27.2 in /opt/app-root/lib/python3.9/site-packages (from pydantic>=1.10.8->qdrant_client) (2.27.2)\n",
      "Requirement already satisfied: python-dotenv>=0.21.0 in /opt/app-root/lib/python3.9/site-packages (from pydantic-settings<3.0.0,>=2.4.0->langchain_community) (1.0.1)\n",
      "Requirement already satisfied: charset-normalizer<4,>=2 in /opt/app-root/lib/python3.9/site-packages (from requests<3,>=2->langchain_community) (3.3.2)\n",
      "Requirement already satisfied: greenlet!=0.4.17 in /opt/app-root/lib/python3.9/site-packages (from SQLAlchemy<3,>=1.4->langchain_community) (3.1.1)\n",
      "Requirement already satisfied: regex>=2022.1.18 in /opt/app-root/lib/python3.9/site-packages (from tiktoken<1,>=0.7->langchain_openai) (2024.11.6)\n",
      "Requirement already satisfied: exceptiongroup>=1.0.2 in /opt/app-root/lib/python3.9/site-packages (from anyio->httpx>=0.20.0->httpx[http2]>=0.20.0->qdrant_client) (1.2.0)\n",
      "Requirement already satisfied: hyperframe<7,>=6.1 in /opt/app-root/lib/python3.9/site-packages (from h2<5,>=3->httpx[http2]>=0.20.0->qdrant_client) (6.1.0)\n",
      "Requirement already satisfied: hpack<5,>=4.1 in /opt/app-root/lib/python3.9/site-packages (from h2<5,>=3->httpx[http2]>=0.20.0->qdrant_client) (4.1.0)\n",
      "Requirement already satisfied: jsonpointer>=1.9 in /opt/app-root/lib/python3.9/site-packages (from jsonpatch<2.0,>=1.33->langchain-core<1.0.0,>=0.3.42->langchain_openai) (2.4)\n",
      "Requirement already satisfied: mypy-extensions>=0.3.0 in /opt/app-root/lib/python3.9/site-packages (from typing-inspect<1,>=0.4.0->dataclasses-json<0.7,>=0.5.7->langchain_community) (1.0.0)\n",
      "Requirement already satisfied: langchain-ollama in /opt/app-root/lib/python3.9/site-packages (0.2.3)\n",
      "Requirement already satisfied: langchain-core<0.4.0,>=0.3.33 in /opt/app-root/lib/python3.9/site-packages (from langchain-ollama) (0.3.45)\n",
      "Requirement already satisfied: ollama<1,>=0.4.4 in /opt/app-root/lib/python3.9/site-packages (from langchain-ollama) (0.4.7)\n",
      "Requirement already satisfied: langsmith<0.4,>=0.1.125 in /opt/app-root/lib/python3.9/site-packages (from langchain-core<0.4.0,>=0.3.33->langchain-ollama) (0.3.15)\n",
      "Requirement already satisfied: tenacity!=8.4.0,<10.0.0,>=8.1.0 in /opt/app-root/lib/python3.9/site-packages (from langchain-core<0.4.0,>=0.3.33->langchain-ollama) (8.2.3)\n",
      "Requirement already satisfied: jsonpatch<2.0,>=1.33 in /opt/app-root/lib/python3.9/site-packages (from langchain-core<0.4.0,>=0.3.33->langchain-ollama) (1.33)\n",
      "Requirement already satisfied: PyYAML>=5.3 in /opt/app-root/lib/python3.9/site-packages (from langchain-core<0.4.0,>=0.3.33->langchain-ollama) (6.0.1)\n",
      "Requirement already satisfied: packaging<25,>=23.2 in /opt/app-root/lib/python3.9/site-packages (from langchain-core<0.4.0,>=0.3.33->langchain-ollama) (23.2)\n",
      "Requirement already satisfied: typing-extensions>=4.7 in /opt/app-root/lib/python3.9/site-packages (from langchain-core<0.4.0,>=0.3.33->langchain-ollama) (4.12.2)\n",
      "Requirement already satisfied: pydantic<3.0.0,>=2.5.2 in /opt/app-root/lib/python3.9/site-packages (from langchain-core<0.4.0,>=0.3.33->langchain-ollama) (2.10.6)\n",
      "Requirement already satisfied: httpx<0.29,>=0.27 in /opt/app-root/lib/python3.9/site-packages (from ollama<1,>=0.4.4->langchain-ollama) (0.28.1)\n",
      "Requirement already satisfied: anyio in /opt/app-root/lib/python3.9/site-packages (from httpx<0.29,>=0.27->ollama<1,>=0.4.4->langchain-ollama) (4.3.0)\n",
      "Requirement already satisfied: certifi in /opt/app-root/lib/python3.9/site-packages (from httpx<0.29,>=0.27->ollama<1,>=0.4.4->langchain-ollama) (2024.2.2)\n",
      "Requirement already satisfied: httpcore==1.* in /opt/app-root/lib/python3.9/site-packages (from httpx<0.29,>=0.27->ollama<1,>=0.4.4->langchain-ollama) (1.0.7)\n",
      "Requirement already satisfied: idna in /opt/app-root/lib/python3.9/site-packages (from httpx<0.29,>=0.27->ollama<1,>=0.4.4->langchain-ollama) (3.6)\n",
      "Requirement already satisfied: h11<0.15,>=0.13 in /opt/app-root/lib/python3.9/site-packages (from httpcore==1.*->httpx<0.29,>=0.27->ollama<1,>=0.4.4->langchain-ollama) (0.14.0)\n",
      "Requirement already satisfied: jsonpointer>=1.9 in /opt/app-root/lib/python3.9/site-packages (from jsonpatch<2.0,>=1.33->langchain-core<0.4.0,>=0.3.33->langchain-ollama) (2.4)\n",
      "Requirement already satisfied: orjson<4.0.0,>=3.9.14 in /opt/app-root/lib/python3.9/site-packages (from langsmith<0.4,>=0.1.125->langchain-core<0.4.0,>=0.3.33->langchain-ollama) (3.10.15)\n",
      "Requirement already satisfied: requests<3,>=2 in /opt/app-root/lib/python3.9/site-packages (from langsmith<0.4,>=0.1.125->langchain-core<0.4.0,>=0.3.33->langchain-ollama) (2.31.0)\n",
      "Requirement already satisfied: requests-toolbelt<2.0.0,>=1.0.0 in /opt/app-root/lib/python3.9/site-packages (from langsmith<0.4,>=0.1.125->langchain-core<0.4.0,>=0.3.33->langchain-ollama) (1.0.0)\n",
      "Requirement already satisfied: zstandard<0.24.0,>=0.23.0 in /opt/app-root/lib/python3.9/site-packages (from langsmith<0.4,>=0.1.125->langchain-core<0.4.0,>=0.3.33->langchain-ollama) (0.23.0)\n",
      "Requirement already satisfied: annotated-types>=0.6.0 in /opt/app-root/lib/python3.9/site-packages (from pydantic<3.0.0,>=2.5.2->langchain-core<0.4.0,>=0.3.33->langchain-ollama) (0.7.0)\n",
      "Requirement already satisfied: pydantic-core==2.27.2 in /opt/app-root/lib/python3.9/site-packages (from pydantic<3.0.0,>=2.5.2->langchain-core<0.4.0,>=0.3.33->langchain-ollama) (2.27.2)\n",
      "Requirement already satisfied: charset-normalizer<4,>=2 in /opt/app-root/lib/python3.9/site-packages (from requests<3,>=2->langsmith<0.4,>=0.1.125->langchain-core<0.4.0,>=0.3.33->langchain-ollama) (3.3.2)\n",
      "Requirement already satisfied: urllib3<3,>=1.21.1 in /opt/app-root/lib/python3.9/site-packages (from requests<3,>=2->langsmith<0.4,>=0.1.125->langchain-core<0.4.0,>=0.3.33->langchain-ollama) (1.26.18)\n",
      "Requirement already satisfied: sniffio>=1.1 in /opt/app-root/lib/python3.9/site-packages (from anyio->httpx<0.29,>=0.27->ollama<1,>=0.4.4->langchain-ollama) (1.3.1)\n",
      "Requirement already satisfied: exceptiongroup>=1.0.2 in /opt/app-root/lib/python3.9/site-packages (from anyio->httpx<0.29,>=0.27->ollama<1,>=0.4.4->langchain-ollama) (1.2.0)\n",
      "Requirement already satisfied: pypdf in /opt/app-root/lib/python3.9/site-packages (5.4.0)\n",
      "Requirement already satisfied: typing_extensions>=4.0 in /opt/app-root/lib/python3.9/site-packages (from pypdf) (4.12.2)\n"
     ]
    }
   ],
   "source": [
    "## Install Python dependencies\n",
    "!pip install --upgrade pip\n",
    "!pip install --upgrade qdrant_client langchain_qdrant langchain_community\n",
    "!pip install --upgrade langchain-ollama\n",
    "!pip install pypdf"
   ]
  },
  {
   "cell_type": "code",
   "execution_count": 2,
   "id": "21da6261",
   "metadata": {},
   "outputs": [],
   "source": [
    "from uuid import uuid4\n",
    "import os\n",
    "\n",
    "from langchain_community.document_loaders import PyPDFLoader\n",
    "from langchain.text_splitter import RecursiveCharacterTextSplitter\n",
    "from langchain.chains.combine_documents import create_stuff_documents_chain\n",
    "from langchain.prompts import ChatPromptTemplate\n",
    "from langchain.callbacks import StdOutCallbackHandler\n",
    "from qdrant_client import QdrantClient\n",
    "from qdrant_client.models import Distance, VectorParams\n",
    "from qdrant_client.models import PointStruct\n",
    "from langchain.chains import create_retrieval_chain\n",
    "from langchain_ollama import OllamaLLM\n",
    "from langchain_ollama import OllamaEmbeddings\n",
    "from langchain_qdrant import QdrantVectorStore"
   ]
  },
  {
   "cell_type": "markdown",
   "id": "9cd4537b",
   "metadata": {},
   "source": [
    "#### Bases parameters, Inference server and Qdrant info"
   ]
  },
  {
   "cell_type": "code",
   "execution_count": 3,
   "id": "51baf1a6-4111-4b40-b43a-833438bdc222",
   "metadata": {
    "tags": []
   },
   "outputs": [],
   "source": [
    "# Replace values according to your Ollama deployment (including the Model name, Ollama and Qdrant Base URLs and Qdrant API Key)\n",
    "MODEL = \"phi3:14b\"\n",
    "# BASE_URL = \"https://ollama-route-<your-namespace>.apps.shift.nerc.mghpcc.org\"\n",
    "BASE_URL = \"http://ollama-service:11434\"\n",
    "# BASE_URL = \"http://ollama-service.<your-namespace>.svc.cluster.local:11434\"\n",
    "\n",
    "# QDRANT_HOST = \"https://qdrant-route-<your-namespace>.apps.shift.nerc.mghpcc.org/\"\n",
    "# QDRANT_PORT = 443\n",
    "\n",
    "QDRANT_HOST = \"http://qdrant-service\"\n",
    "# QDRANT_HOST = \"http://qdrant-service.<your-namespace>.svc.cluster.local\"\n",
    "QDRANT_PORT = 6333\n",
    "\n",
    "QDRANT_COLLECTION = os.getenv('QDRANT_COLLECTION')\n",
    "QDRANT_API_KEY = os.getenv('QDRANT_API_KEY')"
   ]
  },
  {
   "cell_type": "markdown",
   "id": "fe4c1b1a",
   "metadata": {},
   "source": [
    "#### Initialize the connection"
   ]
  },
  {
   "cell_type": "code",
   "execution_count": 4,
   "id": "bbb6a3e3-5ccd-441e-b80d-427555d9e9f6",
   "metadata": {
    "tags": []
   },
   "outputs": [],
   "source": [
    "# Initialize the model and embedding\n",
    "model = OllamaLLM(model=MODEL, base_url=BASE_URL)\n",
    "embedding = OllamaEmbeddings(model=MODEL, base_url=BASE_URL)"
   ]
  },
  {
   "cell_type": "markdown",
   "id": "00ef26d2",
   "metadata": {},
   "source": [
    "### 1. Document Loading"
   ]
  },
  {
   "cell_type": "code",
   "execution_count": 5,
   "id": "aadac9a3",
   "metadata": {},
   "outputs": [],
   "source": [
    "loader = PyPDFLoader(\"datasource/The_Forgotten_Lighthouse_Book.pdf\")\n",
    "text_splitter = RecursiveCharacterTextSplitter(chunk_size=512, chunk_overlap=50)\n",
    "document = loader.load_and_split(text_splitter)"
   ]
  },
  {
   "cell_type": "code",
   "execution_count": 6,
   "id": "d7c3310a",
   "metadata": {},
   "outputs": [
    {
     "data": {
      "text/plain": [
       "Document(metadata={'producer': 'Skia/PDF m80', 'creator': 'Chromium', 'creationdate': '2024-10-01T00:19:42+00:00', 'moddate': '2024-10-01T00:19:42+00:00', 'source': 'datasource/The_Forgotten_Lighthouse_Book.pdf', 'total_pages': 19, 'page': 0, 'page_label': '1'}, page_content='The_Forgotten_Lighthouse.md 2024-10-01\\n1 / 19\\nThe Forgotten Lighthouse\\nChapter 1: The Key to Another World\\nSarah stood at the edge of the cliff, her windswept hair whipping around her face as she gazed out at the\\nchurning sea. The old lighthouse loomed behind her, its paint peeling and windows clouded with age. It had\\nbeen years since anyone had lived there, years since its beacon had guided ships safely to shore.')"
      ]
     },
     "execution_count": 6,
     "metadata": {},
     "output_type": "execute_result"
    }
   ],
   "source": [
    "document[0]"
   ]
  },
  {
   "cell_type": "code",
   "execution_count": 7,
   "id": "72a8fd05",
   "metadata": {},
   "outputs": [
    {
     "data": {
      "text/plain": [
       "129"
      ]
     },
     "execution_count": 7,
     "metadata": {},
     "output_type": "execute_result"
    }
   ],
   "source": [
    "len(document)"
   ]
  },
  {
   "cell_type": "markdown",
   "id": "235ecfbf",
   "metadata": {},
   "source": [
    "#### Connect Qdrant via Client with API Key"
   ]
  },
  {
   "cell_type": "code",
   "execution_count": 8,
   "id": "9362ab60",
   "metadata": {},
   "outputs": [
    {
     "name": "stderr",
     "output_type": "stream",
     "text": [
      "/tmp/ipykernel_1154/1547094213.py:1: UserWarning: Api key is used with an insecure connection.\n",
      "  client = QdrantClient(QDRANT_HOST, port=QDRANT_PORT, api_key=QDRANT_API_KEY)\n"
     ]
    }
   ],
   "source": [
    "client = QdrantClient(QDRANT_HOST, port=QDRANT_PORT, api_key=QDRANT_API_KEY)"
   ]
  },
  {
   "cell_type": "code",
   "execution_count": 9,
   "id": "2a49420a-5750-45a2-9af5-f17c3b6512e5",
   "metadata": {},
   "outputs": [
    {
     "data": {
      "text/plain": [
       "True"
      ]
     },
     "execution_count": 9,
     "metadata": {},
     "output_type": "execute_result"
    }
   ],
   "source": [
    "client.delete_collection(collection_name=QDRANT_COLLECTION)"
   ]
  },
  {
   "cell_type": "code",
   "execution_count": 10,
   "id": "4323fb6c",
   "metadata": {},
   "outputs": [
    {
     "data": {
      "text/plain": [
       "True"
      ]
     },
     "execution_count": 10,
     "metadata": {},
     "output_type": "execute_result"
    }
   ],
   "source": [
    "client.create_collection(\n",
    "    collection_name=QDRANT_COLLECTION,\n",
    "    timeout=10,\n",
    "    vectors_config={\"content\": VectorParams(size=5120, distance=Distance.COSINE)},\n",
    ")"
   ]
  },
  {
   "cell_type": "markdown",
   "id": "11f84b85",
   "metadata": {},
   "source": [
    "### 2. Splitting/Chunking Document"
   ]
  },
  {
   "cell_type": "code",
   "execution_count": 11,
   "id": "20f7be0b",
   "metadata": {},
   "outputs": [],
   "source": [
    "def chunked_metadata(data, client=client, collection_name=QDRANT_COLLECTION):\n",
    "    chunked_metadata = []\n",
    "\n",
    "    for item in data:\n",
    "        id = str(uuid4())\n",
    "        content = item.page_content\n",
    "        source = item.metadata[\"source\"]\n",
    "        page = item.metadata[\"page\"]\n",
    "\n",
    "        content_vector = embedding.embed_documents([content])[0]\n",
    "        vector_dict = {\"content\": content_vector}\n",
    "\n",
    "        payload = {\n",
    "            \"page_content\": content,\n",
    "            \"metadata\": {\n",
    "                \"id\": id,\n",
    "                \"page_content\": content,\n",
    "                \"source\": source,\n",
    "                \"page\": page,\n",
    "            },\n",
    "        }\n",
    "\n",
    "        metadata = PointStruct(id=id, vector=vector_dict, payload=payload)\n",
    "        chunked_metadata.append(metadata)\n",
    "\n",
    "    ### 3. Storage in Vector Database\n",
    "    client.upsert(collection_name=collection_name, wait=True, points=chunked_metadata)"
   ]
  },
  {
   "cell_type": "code",
   "execution_count": 12,
   "id": "79685f89",
   "metadata": {},
   "outputs": [],
   "source": [
    "chunked_metadata(document[:10])"
   ]
  },
  {
   "cell_type": "code",
   "execution_count": 13,
   "id": "eea830a0",
   "metadata": {},
   "outputs": [
    {
     "data": {
      "text/plain": [
       "CollectionsResponse(collections=[CollectionDescription(name='story')])"
      ]
     },
     "execution_count": 13,
     "metadata": {},
     "output_type": "execute_result"
    }
   ],
   "source": [
    "client.get_collections()"
   ]
  },
  {
   "cell_type": "code",
   "execution_count": 14,
   "id": "803450d1",
   "metadata": {},
   "outputs": [
    {
     "name": "stdout",
     "output_type": "stream",
     "text": [
      "Points: 10 \n"
     ]
    }
   ],
   "source": [
    "story_collection = client.get_collection(QDRANT_COLLECTION)\n",
    "\n",
    "print(f\"Points: {story_collection.points_count} \")"
   ]
  },
  {
   "cell_type": "code",
   "execution_count": 15,
   "id": "a2ab32f1",
   "metadata": {},
   "outputs": [
    {
     "name": "stderr",
     "output_type": "stream",
     "text": [
      "/tmp/ipykernel_1154/1025935616.py:1: DeprecationWarning: `search` method is deprecated and will be removed in the future. Use `query_points` instead.\n",
      "  client.search(\n"
     ]
    },
    {
     "data": {
      "text/plain": [
       "[ScoredPoint(id='2fb02e87-bf50-46a3-94d4-63a4e61e9c1e', version=0, score=0.8864837, payload={'page_content': \"sprawled across the page:\\nMy dearest Sarah,\\nIf you're reading this, then I'm gone. I'm sorry I couldn't tell you this in person, but there are secrets about\\nour family and the lighthouse that I've kept hidden for far too long. It's time you knew the truth.\\nGo to the lighthouse. In the top room, behind the old lens, you'll find a hidden compartment. What's inside\\nwill explain everything.\\nI love you, my little starfish. Be brave.\\nGrandpa\"}, vector=None, shard_key=None, order_value=None),\n",
       " ScoredPoint(id='e762c7fa-8b2f-46e6-a23b-a7e2e7303770', version=0, score=0.87809247, payload={'page_content': 'The_Forgotten_Lighthouse.md 2024-10-01\\n1 / 19\\nThe Forgotten Lighthouse\\nChapter 1: The Key to Another World\\nSarah stood at the edge of the cliff, her windswept hair whipping around her face as she gazed out at the\\nchurning sea. The old lighthouse loomed behind her, its paint peeling and windows clouded with age. It had\\nbeen years since anyone had lived there, years since its beacon had guided ships safely to shore.'}, vector=None, shard_key=None, order_value=None),\n",
       " ScoredPoint(id='0faf18a3-a6bc-4de4-bfb7-ffea6e1b465b', version=0, score=0.8764416, payload={'page_content': \"She took a deep breath, tasting salt on the air. This place held so many memories - summers spent\\nexploring the rocky beach below, nights watching storms roll in from the safety of the lighthouse keeper's\\ncottage. But now she was back for a different reason.\\nSarah reached into her pocket and pulled out the crumpled letter. Her grandfather's familiar handwriting\\nsprawled across the page:\\nMy dearest Sarah,\"}, vector=None, shard_key=None, order_value=None),\n",
       " ScoredPoint(id='82b6ee7f-c183-4f3f-b5ab-5a9324ff0ebe', version=0, score=0.8725041, payload={'page_content': 'imagining things,\" she muttered to herself.\\nThe old wooden door creaked as she pushed it open. Dust motes danced in the dim light filtering through\\ngrimy windows. Sarah coughed, waving a hand in front of her face. The musty smell of abandonment filled\\nher nostrils.\\nShe began to climb the spiral staircase, each step groaning under her weight. Round and round she went,\\nthe windows blurring into a dizzying pattern of light and shadow. Finally, breathless, she reached the top.'}, vector=None, shard_key=None, order_value=None),\n",
       " ScoredPoint(id='8de5d441-fc0d-4073-b36b-56ef3de4658c', version=0, score=0.86878914, payload={'page_content': 'The_Forgotten_Lighthouse.md 2024-10-01\\n2 / 19\\nHer fingers closed around something cool and metallic. She pulled it out, holding it up to the fading\\nsunlight. It was a key, ancient and ornate, with strange symbols etched into its surface.\\nAs soon as the key was in her hand, a low rumble shook the lighthouse. Sarah stumbled, grabbing onto the\\nrailing for support. The lens began to rotate on its own, faster and faster, sending fractured beams of light\\nspinning around the room.'}, vector=None, shard_key=None, order_value=None)]"
      ]
     },
     "execution_count": 15,
     "metadata": {},
     "output_type": "execute_result"
    }
   ],
   "source": [
    "client.search(\n",
    "    collection_name=QDRANT_COLLECTION,\n",
    "    query_vector=(\"content\", embedding.embed_documents([\"Story Details\"])[0]),\n",
    "    with_payload=[\"page_content\", \"source\"],\n",
    "    limit=5,\n",
    ")"
   ]
  },
  {
   "cell_type": "code",
   "execution_count": 16,
   "id": "4e729e66",
   "metadata": {},
   "outputs": [],
   "source": [
    "vectorstore = QdrantVectorStore(\n",
    "    client=client, collection_name=QDRANT_COLLECTION, embedding=embedding, vector_name=\"content\"\n",
    ")"
   ]
  },
  {
   "cell_type": "markdown",
   "id": "b72a3a2b",
   "metadata": {},
   "source": [
    "#### Initialize query chain"
   ]
  },
  {
   "cell_type": "code",
   "execution_count": 17,
   "id": "ed8fd396-0798-45c5-8969-6b6ede134c77",
   "metadata": {
    "tags": []
   },
   "outputs": [],
   "source": [
    "template = \"\"\"\n",
    "\n",
    "You are an assistant for question-answering tasks. \\\n",
    "Use the following pieces of retrieved context to answer the question. \\\n",
    "If you don't know the answer, just say that you don't know. \\\n",
    "\n",
    "\n",
    "Question: {input}\n",
    "Context: {context}\n",
    "\n",
    "Answer:\n",
    "\n",
    "\"\"\"\n",
    "\n",
    "retriever = vectorstore.as_retriever()"
   ]
  },
  {
   "cell_type": "code",
   "execution_count": 18,
   "id": "62cade11",
   "metadata": {},
   "outputs": [],
   "source": [
    "prompt = ChatPromptTemplate.from_template(template)\n",
    "handler = StdOutCallbackHandler()"
   ]
  },
  {
   "cell_type": "markdown",
   "id": "72fd0afe",
   "metadata": {},
   "source": [
    "### 4. Retrieval"
   ]
  },
  {
   "cell_type": "code",
   "execution_count": 19,
   "id": "31835325",
   "metadata": {},
   "outputs": [],
   "source": [
    "combine_docs_chain = create_stuff_documents_chain(model, prompt)\n",
    "retrieval_chain = create_retrieval_chain(retriever, combine_docs_chain)"
   ]
  },
  {
   "cell_type": "markdown",
   "id": "3a45ad23",
   "metadata": {},
   "source": [
    "#### Query example"
   ]
  },
  {
   "cell_type": "code",
   "execution_count": 20,
   "id": "105d2fd1-f36c-409d-8e52-ec6d23a56ad1",
   "metadata": {
    "tags": []
   },
   "outputs": [],
   "source": [
    "result = retrieval_chain.invoke(\n",
    "    {\"input\": \"Who is the starfish and how do you know it?\"}\n",
    ")"
   ]
  },
  {
   "cell_type": "markdown",
   "id": "97d75d0c",
   "metadata": {},
   "source": [
    "### 5. Output"
   ]
  },
  {
   "cell_type": "code",
   "execution_count": 21,
   "id": "acda357e-558a-4879-8ad8-21f0567f2f2e",
   "metadata": {
    "tags": []
   },
   "outputs": [
    {
     "data": {
      "text/plain": [
       "{'input': 'Who is the starfish and how do you know it?',\n",
       " 'context': [Document(metadata={'id': 'e762c7fa-8b2f-46e6-a23b-a7e2e7303770', 'page_content': 'The_Forgotten_Lighthouse.md 2024-10-01\\n1 / 19\\nThe Forgotten Lighthouse\\nChapter 1: The Key to Another World\\nSarah stood at the edge of the cliff, her windswept hair whipping around her face as she gazed out at the\\nchurning sea. The old lighthouse loomed behind her, its paint peeling and windows clouded with age. It had\\nbeen years since anyone had lived there, years since its beacon had guided ships safely to shore.', 'source': 'datasource/The_Forgotten_Lighthouse_Book.pdf', 'page': 0, '_id': 'e762c7fa-8b2f-46e6-a23b-a7e2e7303770', '_collection_name': 'story'}, page_content='The_Forgotten_Lighthouse.md 2024-10-01\\n1 / 19\\nThe Forgotten Lighthouse\\nChapter 1: The Key to Another World\\nSarah stood at the edge of the cliff, her windswept hair whipping around her face as she gazed out at the\\nchurning sea. The old lighthouse loomed behind her, its paint peeling and windows clouded with age. It had\\nbeen years since anyone had lived there, years since its beacon had guided ships safely to shore.'),\n",
       "  Document(metadata={'id': '82b6ee7f-c183-4f3f-b5ab-5a9324ff0ebe', 'page_content': 'imagining things,\" she muttered to herself.\\nThe old wooden door creaked as she pushed it open. Dust motes danced in the dim light filtering through\\ngrimy windows. Sarah coughed, waving a hand in front of her face. The musty smell of abandonment filled\\nher nostrils.\\nShe began to climb the spiral staircase, each step groaning under her weight. Round and round she went,\\nthe windows blurring into a dizzying pattern of light and shadow. Finally, breathless, she reached the top.', 'source': 'datasource/The_Forgotten_Lighthouse_Book.pdf', 'page': 0, '_id': '82b6ee7f-c183-4f3f-b5ab-5a9324ff0ebe', '_collection_name': 'story'}, page_content='imagining things,\" she muttered to herself.\\nThe old wooden door creaked as she pushed it open. Dust motes danced in the dim light filtering through\\ngrimy windows. Sarah coughed, waving a hand in front of her face. The musty smell of abandonment filled\\nher nostrils.\\nShe began to climb the spiral staircase, each step groaning under her weight. Round and round she went,\\nthe windows blurring into a dizzying pattern of light and shadow. Finally, breathless, she reached the top.'),\n",
       "  Document(metadata={'id': '2fb02e87-bf50-46a3-94d4-63a4e61e9c1e', 'page_content': \"sprawled across the page:\\nMy dearest Sarah,\\nIf you're reading this, then I'm gone. I'm sorry I couldn't tell you this in person, but there are secrets about\\nour family and the lighthouse that I've kept hidden for far too long. It's time you knew the truth.\\nGo to the lighthouse. In the top room, behind the old lens, you'll find a hidden compartment. What's inside\\nwill explain everything.\\nI love you, my little starfish. Be brave.\\nGrandpa\", 'source': 'datasource/The_Forgotten_Lighthouse_Book.pdf', 'page': 0, '_id': '2fb02e87-bf50-46a3-94d4-63a4e61e9c1e', '_collection_name': 'story'}, page_content=\"sprawled across the page:\\nMy dearest Sarah,\\nIf you're reading this, then I'm gone. I'm sorry I couldn't tell you this in person, but there are secrets about\\nour family and the lighthouse that I've kept hidden for far too long. It's time you knew the truth.\\nGo to the lighthouse. In the top room, behind the old lens, you'll find a hidden compartment. What's inside\\nwill explain everything.\\nI love you, my little starfish. Be brave.\\nGrandpa\"),\n",
       "  Document(metadata={'id': '0faf18a3-a6bc-4de4-bfb7-ffea6e1b465b', 'page_content': \"She took a deep breath, tasting salt on the air. This place held so many memories - summers spent\\nexploring the rocky beach below, nights watching storms roll in from the safety of the lighthouse keeper's\\ncottage. But now she was back for a different reason.\\nSarah reached into her pocket and pulled out the crumpled letter. Her grandfather's familiar handwriting\\nsprawled across the page:\\nMy dearest Sarah,\", 'source': 'datasource/The_Forgotten_Lighthouse_Book.pdf', 'page': 0, '_id': '0faf18a3-a6bc-4de4-bfb7-ffea6e1b465b', '_collection_name': 'story'}, page_content=\"She took a deep breath, tasting salt on the air. This place held so many memories - summers spent\\nexploring the rocky beach below, nights watching storms roll in from the safety of the lighthouse keeper's\\ncottage. But now she was back for a different reason.\\nSarah reached into her pocket and pulled out the crumpled letter. Her grandfather's familiar handwriting\\nsprawled across the page:\\nMy dearest Sarah,\")],\n",
       " 'answer': 'The starfish in the story is a metaphorical reference to Sarah herself by her Grandpa. He calls her his \"little starfish\". This could be because of some unique characteristic or quality he sees in her that reminds him of a starfish, such as resilience or adaptability. However, there\\'s no clear explanation given in the provided context about why exactly Sarah is likened to a starfish.'}"
      ]
     },
     "execution_count": 21,
     "metadata": {},
     "output_type": "execute_result"
    }
   ],
   "source": [
    "result"
   ]
  },
  {
   "cell_type": "markdown",
   "id": "dfc93179",
   "metadata": {},
   "source": [
    "#### Retrieve Anwser"
   ]
  },
  {
   "cell_type": "code",
   "execution_count": 22,
   "id": "5c94b7ee",
   "metadata": {
    "tags": []
   },
   "outputs": [
    {
     "data": {
      "text/plain": [
       "'The starfish in the story is a metaphorical reference to Sarah herself by her Grandpa. He calls her his \"little starfish\". This could be because of some unique characteristic or quality he sees in her that reminds him of a starfish, such as resilience or adaptability. However, there\\'s no clear explanation given in the provided context about why exactly Sarah is likened to a starfish.'"
      ]
     },
     "execution_count": 22,
     "metadata": {},
     "output_type": "execute_result"
    }
   ],
   "source": [
    "result[\"answer\"]"
   ]
  }
 ],
 "metadata": {
  "kernelspec": {
   "display_name": "Python 3.9",
   "language": "python",
   "name": "python3"
  },
  "language_info": {
   "codemirror_mode": {
    "name": "ipython",
    "version": 3
   },
   "file_extension": ".py",
   "mimetype": "text/x-python",
   "name": "python",
   "nbconvert_exporter": "python",
   "pygments_lexer": "ipython3",
   "version": "3.9.18"
  }
 },
 "nbformat": 4,
 "nbformat_minor": 5
}
